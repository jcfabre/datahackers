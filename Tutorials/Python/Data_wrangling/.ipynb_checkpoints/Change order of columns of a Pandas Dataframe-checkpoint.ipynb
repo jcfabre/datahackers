{
 "cells": [
  {
   "cell_type": "markdown",
   "metadata": {},
   "source": [
    "# Change order of columns of a Pandas Dataframe"
   ]
  },
  {
   "cell_type": "markdown",
   "metadata": {},
   "source": [
    "Credit to: http://stackoverflow.com/questions/13148429/how-to-change-the-order-of-dataframe-columns"
   ]
  },
  {
   "cell_type": "markdown",
   "metadata": {},
   "source": [
    "### Imports"
   ]
  },
  {
   "cell_type": "code",
   "execution_count": 1,
   "metadata": {
    "collapsed": true
   },
   "outputs": [],
   "source": [
    "% matplotlib inline\n",
    "import pandas as pd\n",
    "import matplotlib.pyplot as plt\n",
    "import numpy as np"
   ]
  },
  {
   "cell_type": "code",
   "execution_count": 2,
   "metadata": {
    "collapsed": false,
    "scrolled": true
   },
   "outputs": [
    {
     "data": {
      "text/html": [
       "<div>\n",
       "<table border=\"1\" class=\"dataframe\">\n",
       "  <thead>\n",
       "    <tr style=\"text-align: right;\">\n",
       "      <th></th>\n",
       "      <th>A</th>\n",
       "      <th>B</th>\n",
       "      <th>C</th>\n",
       "      <th>D</th>\n",
       "      <th>E</th>\n",
       "    </tr>\n",
       "  </thead>\n",
       "  <tbody>\n",
       "    <tr>\n",
       "      <th>0</th>\n",
       "      <td>-0.465870</td>\n",
       "      <td>0.350271</td>\n",
       "      <td>-0.391355</td>\n",
       "      <td>1.652347</td>\n",
       "      <td>-0.856344</td>\n",
       "    </tr>\n",
       "    <tr>\n",
       "      <th>1</th>\n",
       "      <td>0.580712</td>\n",
       "      <td>-0.736599</td>\n",
       "      <td>-1.125205</td>\n",
       "      <td>0.094248</td>\n",
       "      <td>-0.904447</td>\n",
       "    </tr>\n",
       "    <tr>\n",
       "      <th>2</th>\n",
       "      <td>0.467904</td>\n",
       "      <td>-2.014680</td>\n",
       "      <td>1.564260</td>\n",
       "      <td>1.133927</td>\n",
       "      <td>0.014194</td>\n",
       "    </tr>\n",
       "    <tr>\n",
       "      <th>3</th>\n",
       "      <td>0.305570</td>\n",
       "      <td>1.749059</td>\n",
       "      <td>-1.854975</td>\n",
       "      <td>-0.192249</td>\n",
       "      <td>0.079929</td>\n",
       "    </tr>\n",
       "    <tr>\n",
       "      <th>4</th>\n",
       "      <td>1.239324</td>\n",
       "      <td>-0.823224</td>\n",
       "      <td>0.021715</td>\n",
       "      <td>-0.866583</td>\n",
       "      <td>-0.143002</td>\n",
       "    </tr>\n",
       "  </tbody>\n",
       "</table>\n",
       "</div>"
      ],
      "text/plain": [
       "          A         B         C         D         E\n",
       "0 -0.465870  0.350271 -0.391355  1.652347 -0.856344\n",
       "1  0.580712 -0.736599 -1.125205  0.094248 -0.904447\n",
       "2  0.467904 -2.014680  1.564260  1.133927  0.014194\n",
       "3  0.305570  1.749059 -1.854975 -0.192249  0.079929\n",
       "4  1.239324 -0.823224  0.021715 -0.866583 -0.143002"
      ]
     },
     "execution_count": 2,
     "metadata": {},
     "output_type": "execute_result"
    }
   ],
   "source": [
    "df = pd.DataFrame(np.random.randn(20,5), columns = list(\"ABCDE\"))\n",
    "df.head()"
   ]
  },
  {
   "cell_type": "code",
   "execution_count": 3,
   "metadata": {
    "collapsed": false,
    "scrolled": false
   },
   "outputs": [
    {
     "data": {
      "text/html": [
       "<div>\n",
       "<table border=\"1\" class=\"dataframe\">\n",
       "  <thead>\n",
       "    <tr style=\"text-align: right;\">\n",
       "      <th></th>\n",
       "      <th>A</th>\n",
       "      <th>B</th>\n",
       "      <th>C</th>\n",
       "      <th>D</th>\n",
       "      <th>E</th>\n",
       "      <th>maxes</th>\n",
       "    </tr>\n",
       "  </thead>\n",
       "  <tbody>\n",
       "    <tr>\n",
       "      <th>0</th>\n",
       "      <td>-0.465870</td>\n",
       "      <td>0.350271</td>\n",
       "      <td>-0.391355</td>\n",
       "      <td>1.652347</td>\n",
       "      <td>-0.856344</td>\n",
       "      <td>1.652347</td>\n",
       "    </tr>\n",
       "    <tr>\n",
       "      <th>1</th>\n",
       "      <td>0.580712</td>\n",
       "      <td>-0.736599</td>\n",
       "      <td>-1.125205</td>\n",
       "      <td>0.094248</td>\n",
       "      <td>-0.904447</td>\n",
       "      <td>0.580712</td>\n",
       "    </tr>\n",
       "    <tr>\n",
       "      <th>2</th>\n",
       "      <td>0.467904</td>\n",
       "      <td>-2.014680</td>\n",
       "      <td>1.564260</td>\n",
       "      <td>1.133927</td>\n",
       "      <td>0.014194</td>\n",
       "      <td>1.564260</td>\n",
       "    </tr>\n",
       "    <tr>\n",
       "      <th>3</th>\n",
       "      <td>0.305570</td>\n",
       "      <td>1.749059</td>\n",
       "      <td>-1.854975</td>\n",
       "      <td>-0.192249</td>\n",
       "      <td>0.079929</td>\n",
       "      <td>1.749059</td>\n",
       "    </tr>\n",
       "    <tr>\n",
       "      <th>4</th>\n",
       "      <td>1.239324</td>\n",
       "      <td>-0.823224</td>\n",
       "      <td>0.021715</td>\n",
       "      <td>-0.866583</td>\n",
       "      <td>-0.143002</td>\n",
       "      <td>1.239324</td>\n",
       "    </tr>\n",
       "  </tbody>\n",
       "</table>\n",
       "</div>"
      ],
      "text/plain": [
       "          A         B         C         D         E     maxes\n",
       "0 -0.465870  0.350271 -0.391355  1.652347 -0.856344  1.652347\n",
       "1  0.580712 -0.736599 -1.125205  0.094248 -0.904447  0.580712\n",
       "2  0.467904 -2.014680  1.564260  1.133927  0.014194  1.564260\n",
       "3  0.305570  1.749059 -1.854975 -0.192249  0.079929  1.749059\n",
       "4  1.239324 -0.823224  0.021715 -0.866583 -0.143002  1.239324"
      ]
     },
     "execution_count": 3,
     "metadata": {},
     "output_type": "execute_result"
    }
   ],
   "source": [
    "df[\"maxes\"] = df.max(axis=1)\n",
    "df.head()"
   ]
  },
  {
   "cell_type": "markdown",
   "metadata": {},
   "source": [
    "### Change column order"
   ]
  },
  {
   "cell_type": "code",
   "execution_count": 4,
   "metadata": {
    "collapsed": false
   },
   "outputs": [
    {
     "data": {
      "text/plain": [
       "['A', 'B', 'C', 'D', 'E', 'maxes']"
      ]
     },
     "execution_count": 4,
     "metadata": {},
     "output_type": "execute_result"
    }
   ],
   "source": [
    "cols = df.columns.tolist()\n",
    "cols"
   ]
  },
  {
   "cell_type": "code",
   "execution_count": 5,
   "metadata": {
    "collapsed": false
   },
   "outputs": [
    {
     "data": {
      "text/plain": [
       "['maxes', 'A', 'B', 'C', 'D', 'E']"
      ]
     },
     "execution_count": 5,
     "metadata": {},
     "output_type": "execute_result"
    }
   ],
   "source": [
    "cols = cols[-1:] + cols[:-1] \n",
    "cols"
   ]
  },
  {
   "cell_type": "code",
   "execution_count": 6,
   "metadata": {
    "collapsed": false
   },
   "outputs": [
    {
     "data": {
      "text/html": [
       "<div>\n",
       "<table border=\"1\" class=\"dataframe\">\n",
       "  <thead>\n",
       "    <tr style=\"text-align: right;\">\n",
       "      <th></th>\n",
       "      <th>maxes</th>\n",
       "      <th>A</th>\n",
       "      <th>B</th>\n",
       "      <th>C</th>\n",
       "      <th>D</th>\n",
       "      <th>E</th>\n",
       "    </tr>\n",
       "  </thead>\n",
       "  <tbody>\n",
       "    <tr>\n",
       "      <th>0</th>\n",
       "      <td>1.652347</td>\n",
       "      <td>-0.465870</td>\n",
       "      <td>0.350271</td>\n",
       "      <td>-0.391355</td>\n",
       "      <td>1.652347</td>\n",
       "      <td>-0.856344</td>\n",
       "    </tr>\n",
       "    <tr>\n",
       "      <th>1</th>\n",
       "      <td>0.580712</td>\n",
       "      <td>0.580712</td>\n",
       "      <td>-0.736599</td>\n",
       "      <td>-1.125205</td>\n",
       "      <td>0.094248</td>\n",
       "      <td>-0.904447</td>\n",
       "    </tr>\n",
       "    <tr>\n",
       "      <th>2</th>\n",
       "      <td>1.564260</td>\n",
       "      <td>0.467904</td>\n",
       "      <td>-2.014680</td>\n",
       "      <td>1.564260</td>\n",
       "      <td>1.133927</td>\n",
       "      <td>0.014194</td>\n",
       "    </tr>\n",
       "    <tr>\n",
       "      <th>3</th>\n",
       "      <td>1.749059</td>\n",
       "      <td>0.305570</td>\n",
       "      <td>1.749059</td>\n",
       "      <td>-1.854975</td>\n",
       "      <td>-0.192249</td>\n",
       "      <td>0.079929</td>\n",
       "    </tr>\n",
       "    <tr>\n",
       "      <th>4</th>\n",
       "      <td>1.239324</td>\n",
       "      <td>1.239324</td>\n",
       "      <td>-0.823224</td>\n",
       "      <td>0.021715</td>\n",
       "      <td>-0.866583</td>\n",
       "      <td>-0.143002</td>\n",
       "    </tr>\n",
       "  </tbody>\n",
       "</table>\n",
       "</div>"
      ],
      "text/plain": [
       "      maxes         A         B         C         D         E\n",
       "0  1.652347 -0.465870  0.350271 -0.391355  1.652347 -0.856344\n",
       "1  0.580712  0.580712 -0.736599 -1.125205  0.094248 -0.904447\n",
       "2  1.564260  0.467904 -2.014680  1.564260  1.133927  0.014194\n",
       "3  1.749059  0.305570  1.749059 -1.854975 -0.192249  0.079929\n",
       "4  1.239324  1.239324 -0.823224  0.021715 -0.866583 -0.143002"
      ]
     },
     "execution_count": 6,
     "metadata": {},
     "output_type": "execute_result"
    }
   ],
   "source": [
    "df = df[cols]\n",
    "df.head()"
   ]
  }
 ],
 "metadata": {
  "kernelspec": {
   "display_name": "Python 2",
   "language": "python",
   "name": "python2"
  },
  "language_info": {
   "codemirror_mode": {
    "name": "ipython",
    "version": 2
   },
   "file_extension": ".py",
   "mimetype": "text/x-python",
   "name": "python",
   "nbconvert_exporter": "python",
   "pygments_lexer": "ipython2",
   "version": "2.7.10"
  }
 },
 "nbformat": 4,
 "nbformat_minor": 0
}
