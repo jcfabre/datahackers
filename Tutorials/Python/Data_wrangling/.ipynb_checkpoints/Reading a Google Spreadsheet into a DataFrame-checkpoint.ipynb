{
 "cells": [
  {
   "cell_type": "markdown",
   "metadata": {},
   "source": [
    "# Reading a Google Spreadsheet into a DataFrame"
   ]
  },
  {
   "cell_type": "markdown",
   "metadata": {
    "collapsed": true
   },
   "source": [
    "Credit to: http://stackoverflow.com/questions/19611729/getting-google-spreadsheet-csv-into-a-pandas-dataframe\n",
    "http://stackoverflow.com/questions/24063629/loading-a-generic-google-spreadsheet-in-pandas"
   ]
  },
  {
   "cell_type": "markdown",
   "metadata": {},
   "source": [
    "### Imports"
   ]
  },
  {
   "cell_type": "code",
   "execution_count": 1,
   "metadata": {
    "collapsed": true
   },
   "outputs": [],
   "source": [
    "% matplotlib inline\n",
    "import pandas as pd\n",
    "import matplotlib.pyplot as plt\n",
    "import numpy as np\n",
    "import requests\n",
    "from StringIO import StringIO"
   ]
  },
  {
   "cell_type": "markdown",
   "metadata": {},
   "source": [
    "We'll be using UFC data for this"
   ]
  },
  {
   "cell_type": "markdown",
   "metadata": {},
   "source": [
    "### Changing the url format"
   ]
  },
  {
   "cell_type": "markdown",
   "metadata": {},
   "source": [
    "generic format = https://docs.google.com/spreadsheets/d + <key> + /edit#gid=0\n",
    "csv format = https://docs.google.com/spreadsheets/d + <key> + /export?format=csv&gid=0"
   ]
  },
  {
   "cell_type": "code",
   "execution_count": 2,
   "metadata": {
    "collapsed": true
   },
   "outputs": [],
   "source": [
    "generic_url = \"https://docs.google.com/spreadsheets/d/1sQOtIwkEiTe4kwwRHw5bwi72ZJHXlAVcCNMImr-Ml6U/edit#gid=0\"\n",
    "url = \"https://docs.google.com/spreadsheets/d/1sQOtIwkEiTe4kwwRHw5bwi72ZJHXlAVcCNMImr-Ml6U/export?format=csv&gid=0\""
   ]
  },
  {
   "cell_type": "markdown",
   "metadata": {},
   "source": [
    "### StringIO makes it possible to read a string as a file"
   ]
  },
  {
   "cell_type": "code",
   "execution_count": 3,
   "metadata": {
    "collapsed": false
   },
   "outputs": [
    {
     "data": {
      "text/html": [
       "<div>\n",
       "<table border=\"1\" class=\"dataframe\">\n",
       "  <thead>\n",
       "    <tr style=\"text-align: right;\">\n",
       "      <th></th>\n",
       "      <th>pageurl</th>\n",
       "      <th>eid</th>\n",
       "      <th>mid</th>\n",
       "      <th>event_name</th>\n",
       "      <th>event_org</th>\n",
       "      <th>event_date</th>\n",
       "      <th>event_place</th>\n",
       "      <th>f1pageurl</th>\n",
       "      <th>f2pageurl</th>\n",
       "      <th>f1name</th>\n",
       "      <th>f2name</th>\n",
       "      <th>f1result</th>\n",
       "      <th>f2result</th>\n",
       "      <th>f1fid</th>\n",
       "      <th>f2fid</th>\n",
       "      <th>method</th>\n",
       "      <th>method_d</th>\n",
       "      <th>ref</th>\n",
       "      <th>round</th>\n",
       "      <th>time</th>\n",
       "    </tr>\n",
       "  </thead>\n",
       "  <tbody>\n",
       "    <tr>\n",
       "      <th>0</th>\n",
       "      <td>/events/UFC-1-The-Beginning-7</td>\n",
       "      <td>7</td>\n",
       "      <td>8</td>\n",
       "      <td>UFC 1 - The Beginning</td>\n",
       "      <td>Ultimate Fighting Championship</td>\n",
       "      <td>11/12/1993</td>\n",
       "      <td>McNichols Arena, Denver, Colorado, United States</td>\n",
       "      <td>/fighter/Royce-Gracie-19</td>\n",
       "      <td>/fighter/Gerard-Gordeau-15</td>\n",
       "      <td>Royce Gracie</td>\n",
       "      <td>Gerard Gordeau</td>\n",
       "      <td>win</td>\n",
       "      <td>loss</td>\n",
       "      <td>19</td>\n",
       "      <td>15</td>\n",
       "      <td>Submission</td>\n",
       "      <td>Rear-Naked Choke</td>\n",
       "      <td>Helio Vigio</td>\n",
       "      <td>1</td>\n",
       "      <td>1:44</td>\n",
       "    </tr>\n",
       "    <tr>\n",
       "      <th>1</th>\n",
       "      <td>/events/UFC-1-The-Beginning-7</td>\n",
       "      <td>7</td>\n",
       "      <td>7</td>\n",
       "      <td>UFC 1 - The Beginning</td>\n",
       "      <td>Ultimate Fighting Championship</td>\n",
       "      <td>11/12/1993</td>\n",
       "      <td>McNichols Arena, Denver, Colorado, United States</td>\n",
       "      <td>/fighter/Jason-DeLucia-22</td>\n",
       "      <td>/fighter/Trent-Jenkins-23</td>\n",
       "      <td>Jason DeLucia</td>\n",
       "      <td>Trent Jenkins</td>\n",
       "      <td>win</td>\n",
       "      <td>loss</td>\n",
       "      <td>22</td>\n",
       "      <td>23</td>\n",
       "      <td>Submission</td>\n",
       "      <td>Rear-Naked Choke</td>\n",
       "      <td>Joao Alberto Barreto</td>\n",
       "      <td>1</td>\n",
       "      <td>0:52</td>\n",
       "    </tr>\n",
       "    <tr>\n",
       "      <th>2</th>\n",
       "      <td>/events/UFC-1-The-Beginning-7</td>\n",
       "      <td>7</td>\n",
       "      <td>6</td>\n",
       "      <td>UFC 1 - The Beginning</td>\n",
       "      <td>Ultimate Fighting Championship</td>\n",
       "      <td>11/12/1993</td>\n",
       "      <td>McNichols Arena, Denver, Colorado, United States</td>\n",
       "      <td>/fighter/Royce-Gracie-19</td>\n",
       "      <td>/fighter/Ken-Shamrock-4</td>\n",
       "      <td>Royce Gracie</td>\n",
       "      <td>Ken Shamrock</td>\n",
       "      <td>win</td>\n",
       "      <td>loss</td>\n",
       "      <td>19</td>\n",
       "      <td>4</td>\n",
       "      <td>Submission</td>\n",
       "      <td>Rear-Naked Choke</td>\n",
       "      <td>Helio Vigio</td>\n",
       "      <td>1</td>\n",
       "      <td>0:57</td>\n",
       "    </tr>\n",
       "    <tr>\n",
       "      <th>3</th>\n",
       "      <td>/events/UFC-1-The-Beginning-7</td>\n",
       "      <td>7</td>\n",
       "      <td>5</td>\n",
       "      <td>UFC 1 - The Beginning</td>\n",
       "      <td>Ultimate Fighting Championship</td>\n",
       "      <td>11/12/1993</td>\n",
       "      <td>McNichols Arena, Denver, Colorado, United States</td>\n",
       "      <td>/fighter/Gerard-Gordeau-15</td>\n",
       "      <td>/fighter/Kevin-Rosier-17</td>\n",
       "      <td>Gerard Gordeau</td>\n",
       "      <td>Kevin Rosier</td>\n",
       "      <td>win</td>\n",
       "      <td>loss</td>\n",
       "      <td>15</td>\n",
       "      <td>17</td>\n",
       "      <td>TKO</td>\n",
       "      <td>Corner Stoppage</td>\n",
       "      <td>Joao Alberto Barreto</td>\n",
       "      <td>1</td>\n",
       "      <td>0:59</td>\n",
       "    </tr>\n",
       "    <tr>\n",
       "      <th>4</th>\n",
       "      <td>/events/UFC-1-The-Beginning-7</td>\n",
       "      <td>7</td>\n",
       "      <td>4</td>\n",
       "      <td>UFC 1 - The Beginning</td>\n",
       "      <td>Ultimate Fighting Championship</td>\n",
       "      <td>11/12/1993</td>\n",
       "      <td>McNichols Arena, Denver, Colorado, United States</td>\n",
       "      <td>/fighter/Ken-Shamrock-4</td>\n",
       "      <td>/fighter/Patrick-Smith-21</td>\n",
       "      <td>Ken Shamrock</td>\n",
       "      <td>Patrick Smith</td>\n",
       "      <td>win</td>\n",
       "      <td>loss</td>\n",
       "      <td>4</td>\n",
       "      <td>21</td>\n",
       "      <td>Submission</td>\n",
       "      <td>Heel Hook</td>\n",
       "      <td>Helio Vigio</td>\n",
       "      <td>1</td>\n",
       "      <td>1:49</td>\n",
       "    </tr>\n",
       "  </tbody>\n",
       "</table>\n",
       "</div>"
      ],
      "text/plain": [
       "                         pageurl  eid  mid             event_name  \\\n",
       "0  /events/UFC-1-The-Beginning-7    7    8  UFC 1 - The Beginning   \n",
       "1  /events/UFC-1-The-Beginning-7    7    7  UFC 1 - The Beginning   \n",
       "2  /events/UFC-1-The-Beginning-7    7    6  UFC 1 - The Beginning   \n",
       "3  /events/UFC-1-The-Beginning-7    7    5  UFC 1 - The Beginning   \n",
       "4  /events/UFC-1-The-Beginning-7    7    4  UFC 1 - The Beginning   \n",
       "\n",
       "                        event_org  event_date  \\\n",
       "0  Ultimate Fighting Championship  11/12/1993   \n",
       "1  Ultimate Fighting Championship  11/12/1993   \n",
       "2  Ultimate Fighting Championship  11/12/1993   \n",
       "3  Ultimate Fighting Championship  11/12/1993   \n",
       "4  Ultimate Fighting Championship  11/12/1993   \n",
       "\n",
       "                                        event_place  \\\n",
       "0  McNichols Arena, Denver, Colorado, United States   \n",
       "1  McNichols Arena, Denver, Colorado, United States   \n",
       "2  McNichols Arena, Denver, Colorado, United States   \n",
       "3  McNichols Arena, Denver, Colorado, United States   \n",
       "4  McNichols Arena, Denver, Colorado, United States   \n",
       "\n",
       "                    f1pageurl                   f2pageurl          f1name  \\\n",
       "0    /fighter/Royce-Gracie-19  /fighter/Gerard-Gordeau-15    Royce Gracie   \n",
       "1   /fighter/Jason-DeLucia-22   /fighter/Trent-Jenkins-23   Jason DeLucia   \n",
       "2    /fighter/Royce-Gracie-19     /fighter/Ken-Shamrock-4    Royce Gracie   \n",
       "3  /fighter/Gerard-Gordeau-15    /fighter/Kevin-Rosier-17  Gerard Gordeau   \n",
       "4     /fighter/Ken-Shamrock-4   /fighter/Patrick-Smith-21    Ken Shamrock   \n",
       "\n",
       "           f2name f1result f2result  f1fid  f2fid      method  \\\n",
       "0  Gerard Gordeau      win     loss     19     15  Submission   \n",
       "1   Trent Jenkins      win     loss     22     23  Submission   \n",
       "2    Ken Shamrock      win     loss     19      4  Submission   \n",
       "3    Kevin Rosier      win     loss     15     17         TKO   \n",
       "4   Patrick Smith      win     loss      4     21  Submission   \n",
       "\n",
       "           method_d                   ref  round  time  \n",
       "0  Rear-Naked Choke           Helio Vigio      1  1:44  \n",
       "1  Rear-Naked Choke  Joao Alberto Barreto      1  0:52  \n",
       "2  Rear-Naked Choke           Helio Vigio      1  0:57  \n",
       "3   Corner Stoppage  Joao Alberto Barreto      1  0:59  \n",
       "4         Heel Hook           Helio Vigio      1  1:49  "
      ]
     },
     "execution_count": 3,
     "metadata": {},
     "output_type": "execute_result"
    }
   ],
   "source": [
    "data = requests.get(url).content.decode(\"utf-8\")\n",
    "df = pd.read_csv(StringIO(data))\n",
    "df.head()"
   ]
  }
 ],
 "metadata": {
  "kernelspec": {
   "display_name": "Python 2",
   "language": "python",
   "name": "python2"
  },
  "language_info": {
   "codemirror_mode": {
    "name": "ipython",
    "version": 2
   },
   "file_extension": ".py",
   "mimetype": "text/x-python",
   "name": "python",
   "nbconvert_exporter": "python",
   "pygments_lexer": "ipython2",
   "version": "2.7.10"
  }
 },
 "nbformat": 4,
 "nbformat_minor": 0
}
