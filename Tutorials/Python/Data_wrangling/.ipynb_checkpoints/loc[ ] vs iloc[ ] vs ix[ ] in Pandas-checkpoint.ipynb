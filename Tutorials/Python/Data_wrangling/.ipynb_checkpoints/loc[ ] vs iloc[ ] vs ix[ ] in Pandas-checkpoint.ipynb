{
 "cells": [
  {
   "cell_type": "markdown",
   "metadata": {
    "collapsed": true
   },
   "source": [
    "# loc[ ] vs iloc[ ] vs ix[ ] in Pandas "
   ]
  },
  {
   "cell_type": "markdown",
   "metadata": {},
   "source": [
    "### Imports"
   ]
  },
  {
   "cell_type": "code",
   "execution_count": 1,
   "metadata": {
    "collapsed": true
   },
   "outputs": [],
   "source": [
    "% matplotlib inline\n",
    "\n",
    "import pandas as pd\n",
    "import matplotlib.pyplot as plt\n",
    "import numpy as np"
   ]
  },
  {
   "cell_type": "code",
   "execution_count": 2,
   "metadata": {
    "collapsed": false
   },
   "outputs": [
    {
     "data": {
      "text/html": [
       "<div>\n",
       "<table border=\"1\" class=\"dataframe\">\n",
       "  <thead>\n",
       "    <tr style=\"text-align: right;\">\n",
       "      <th></th>\n",
       "      <th>A</th>\n",
       "      <th>B</th>\n",
       "      <th>C</th>\n",
       "      <th>D</th>\n",
       "      <th>E</th>\n",
       "    </tr>\n",
       "  </thead>\n",
       "  <tbody>\n",
       "    <tr>\n",
       "      <th>0</th>\n",
       "      <td>0.481138</td>\n",
       "      <td>-0.836912</td>\n",
       "      <td>1.727949</td>\n",
       "      <td>0.777779</td>\n",
       "      <td>0.735387</td>\n",
       "    </tr>\n",
       "    <tr>\n",
       "      <th>1</th>\n",
       "      <td>1.992561</td>\n",
       "      <td>-0.692921</td>\n",
       "      <td>0.060170</td>\n",
       "      <td>-1.180734</td>\n",
       "      <td>-0.822875</td>\n",
       "    </tr>\n",
       "    <tr>\n",
       "      <th>2</th>\n",
       "      <td>1.361803</td>\n",
       "      <td>-0.459099</td>\n",
       "      <td>0.596075</td>\n",
       "      <td>-0.843475</td>\n",
       "      <td>-0.152430</td>\n",
       "    </tr>\n",
       "    <tr>\n",
       "      <th>3</th>\n",
       "      <td>-0.813966</td>\n",
       "      <td>-2.166506</td>\n",
       "      <td>-0.073822</td>\n",
       "      <td>-0.134159</td>\n",
       "      <td>-1.205575</td>\n",
       "    </tr>\n",
       "    <tr>\n",
       "      <th>4</th>\n",
       "      <td>0.129851</td>\n",
       "      <td>-1.245814</td>\n",
       "      <td>1.614511</td>\n",
       "      <td>0.991518</td>\n",
       "      <td>0.135556</td>\n",
       "    </tr>\n",
       "  </tbody>\n",
       "</table>\n",
       "</div>"
      ],
      "text/plain": [
       "          A         B         C         D         E\n",
       "0  0.481138 -0.836912  1.727949  0.777779  0.735387\n",
       "1  1.992561 -0.692921  0.060170 -1.180734 -0.822875\n",
       "2  1.361803 -0.459099  0.596075 -0.843475 -0.152430\n",
       "3 -0.813966 -2.166506 -0.073822 -0.134159 -1.205575\n",
       "4  0.129851 -1.245814  1.614511  0.991518  0.135556"
      ]
     },
     "execution_count": 2,
     "metadata": {},
     "output_type": "execute_result"
    }
   ],
   "source": [
    "df = pd.DataFrame(np.random.randn(5,5), columns = list(\"ABCDE\"))\n",
    "df"
   ]
  },
  {
   "cell_type": "markdown",
   "metadata": {},
   "source": [
    "### loc[ ] works with labels"
   ]
  },
  {
   "cell_type": "code",
   "execution_count": 3,
   "metadata": {
    "collapsed": false
   },
   "outputs": [
    {
     "data": {
      "text/plain": [
       "A    0.481138\n",
       "B   -0.836912\n",
       "C    1.727949\n",
       "D    0.777779\n",
       "E    0.735387\n",
       "Name: 0, dtype: float64"
      ]
     },
     "execution_count": 3,
     "metadata": {},
     "output_type": "execute_result"
    }
   ],
   "source": [
    "df.loc[0]"
   ]
  },
  {
   "cell_type": "code",
   "execution_count": 4,
   "metadata": {
    "collapsed": false
   },
   "outputs": [
    {
     "data": {
      "text/plain": [
       "0.48113768348802222"
      ]
     },
     "execution_count": 4,
     "metadata": {},
     "output_type": "execute_result"
    }
   ],
   "source": [
    "df.loc[0,\"A\"]"
   ]
  },
  {
   "cell_type": "code",
   "execution_count": 5,
   "metadata": {
    "collapsed": false
   },
   "outputs": [
    {
     "data": {
      "text/plain": [
       "0.48113768348802222"
      ]
     },
     "execution_count": 5,
     "metadata": {},
     "output_type": "execute_result"
    }
   ],
   "source": [
    "# Equivalent to\n",
    "df.at[0,\"A\"]"
   ]
  },
  {
   "cell_type": "code",
   "execution_count": 6,
   "metadata": {
    "collapsed": false
   },
   "outputs": [
    {
     "data": {
      "text/html": [
       "<div>\n",
       "<table border=\"1\" class=\"dataframe\">\n",
       "  <thead>\n",
       "    <tr style=\"text-align: right;\">\n",
       "      <th></th>\n",
       "      <th>A</th>\n",
       "      <th>B</th>\n",
       "      <th>C</th>\n",
       "    </tr>\n",
       "  </thead>\n",
       "  <tbody>\n",
       "    <tr>\n",
       "      <th>0</th>\n",
       "      <td>0.481138</td>\n",
       "      <td>-0.836912</td>\n",
       "      <td>1.727949</td>\n",
       "    </tr>\n",
       "    <tr>\n",
       "      <th>1</th>\n",
       "      <td>1.992561</td>\n",
       "      <td>-0.692921</td>\n",
       "      <td>0.060170</td>\n",
       "    </tr>\n",
       "    <tr>\n",
       "      <th>2</th>\n",
       "      <td>1.361803</td>\n",
       "      <td>-0.459099</td>\n",
       "      <td>0.596075</td>\n",
       "    </tr>\n",
       "    <tr>\n",
       "      <th>3</th>\n",
       "      <td>-0.813966</td>\n",
       "      <td>-2.166506</td>\n",
       "      <td>-0.073822</td>\n",
       "    </tr>\n",
       "    <tr>\n",
       "      <th>4</th>\n",
       "      <td>0.129851</td>\n",
       "      <td>-1.245814</td>\n",
       "      <td>1.614511</td>\n",
       "    </tr>\n",
       "  </tbody>\n",
       "</table>\n",
       "</div>"
      ],
      "text/plain": [
       "          A         B         C\n",
       "0  0.481138 -0.836912  1.727949\n",
       "1  1.992561 -0.692921  0.060170\n",
       "2  1.361803 -0.459099  0.596075\n",
       "3 -0.813966 -2.166506 -0.073822\n",
       "4  0.129851 -1.245814  1.614511"
      ]
     },
     "execution_count": 6,
     "metadata": {},
     "output_type": "execute_result"
    }
   ],
   "source": [
    "df.loc[:,\"A\":\"C\"]"
   ]
  },
  {
   "cell_type": "markdown",
   "metadata": {},
   "source": [
    "### iloc[ ] works with integers"
   ]
  },
  {
   "cell_type": "code",
   "execution_count": 7,
   "metadata": {
    "collapsed": false
   },
   "outputs": [
    {
     "data": {
      "text/html": [
       "<div>\n",
       "<table border=\"1\" class=\"dataframe\">\n",
       "  <thead>\n",
       "    <tr style=\"text-align: right;\">\n",
       "      <th></th>\n",
       "      <th>A</th>\n",
       "      <th>B</th>\n",
       "      <th>C</th>\n",
       "      <th>D</th>\n",
       "      <th>E</th>\n",
       "    </tr>\n",
       "    <tr>\n",
       "      <th>indexcol</th>\n",
       "      <th></th>\n",
       "      <th></th>\n",
       "      <th></th>\n",
       "      <th></th>\n",
       "      <th></th>\n",
       "    </tr>\n",
       "  </thead>\n",
       "  <tbody>\n",
       "    <tr>\n",
       "      <th>tom</th>\n",
       "      <td>0.481138</td>\n",
       "      <td>-0.836912</td>\n",
       "      <td>1.727949</td>\n",
       "      <td>0.777779</td>\n",
       "      <td>0.735387</td>\n",
       "    </tr>\n",
       "    <tr>\n",
       "      <th>max</th>\n",
       "      <td>1.992561</td>\n",
       "      <td>-0.692921</td>\n",
       "      <td>0.060170</td>\n",
       "      <td>-1.180734</td>\n",
       "      <td>-0.822875</td>\n",
       "    </tr>\n",
       "    <tr>\n",
       "      <th>alex</th>\n",
       "      <td>1.361803</td>\n",
       "      <td>-0.459099</td>\n",
       "      <td>0.596075</td>\n",
       "      <td>-0.843475</td>\n",
       "      <td>-0.152430</td>\n",
       "    </tr>\n",
       "    <tr>\n",
       "      <th>chris</th>\n",
       "      <td>-0.813966</td>\n",
       "      <td>-2.166506</td>\n",
       "      <td>-0.073822</td>\n",
       "      <td>-0.134159</td>\n",
       "      <td>-1.205575</td>\n",
       "    </tr>\n",
       "    <tr>\n",
       "      <th>john</th>\n",
       "      <td>0.129851</td>\n",
       "      <td>-1.245814</td>\n",
       "      <td>1.614511</td>\n",
       "      <td>0.991518</td>\n",
       "      <td>0.135556</td>\n",
       "    </tr>\n",
       "  </tbody>\n",
       "</table>\n",
       "</div>"
      ],
      "text/plain": [
       "                 A         B         C         D         E\n",
       "indexcol                                                  \n",
       "tom       0.481138 -0.836912  1.727949  0.777779  0.735387\n",
       "max       1.992561 -0.692921  0.060170 -1.180734 -0.822875\n",
       "alex      1.361803 -0.459099  0.596075 -0.843475 -0.152430\n",
       "chris    -0.813966 -2.166506 -0.073822 -0.134159 -1.205575\n",
       "john      0.129851 -1.245814  1.614511  0.991518  0.135556"
      ]
     },
     "execution_count": 7,
     "metadata": {},
     "output_type": "execute_result"
    }
   ],
   "source": [
    "df[\"indexcol\"] = [\"tom\",\"max\",\"alex\",\"chris\",\"john\"]\n",
    "df.set_index(\"indexcol\", inplace=True)\n",
    "df"
   ]
  },
  {
   "cell_type": "code",
   "execution_count": 8,
   "metadata": {
    "collapsed": false
   },
   "outputs": [
    {
     "data": {
      "text/plain": [
       "A    0.481138\n",
       "B   -0.836912\n",
       "C    1.727949\n",
       "D    0.777779\n",
       "E    0.735387\n",
       "Name: tom, dtype: float64"
      ]
     },
     "execution_count": 8,
     "metadata": {},
     "output_type": "execute_result"
    }
   ],
   "source": [
    "# get first row\n",
    "df.iloc[0]"
   ]
  },
  {
   "cell_type": "code",
   "execution_count": 9,
   "metadata": {
    "collapsed": false
   },
   "outputs": [
    {
     "data": {
      "text/plain": [
       "indexcol\n",
       "tom      0.481138\n",
       "max      1.992561\n",
       "alex     1.361803\n",
       "chris   -0.813966\n",
       "john     0.129851\n",
       "Name: A, dtype: float64"
      ]
     },
     "execution_count": 9,
     "metadata": {},
     "output_type": "execute_result"
    }
   ],
   "source": [
    "# Gets first column\n",
    "df.iloc[:,0]"
   ]
  },
  {
   "cell_type": "code",
   "execution_count": 10,
   "metadata": {
    "collapsed": false
   },
   "outputs": [
    {
     "data": {
      "text/plain": [
       "-1.2055748658114276"
      ]
     },
     "execution_count": 10,
     "metadata": {},
     "output_type": "execute_result"
    }
   ],
   "source": [
    "df.iloc[3,4]"
   ]
  },
  {
   "cell_type": "code",
   "execution_count": 11,
   "metadata": {
    "collapsed": false
   },
   "outputs": [
    {
     "data": {
      "text/plain": [
       "-1.2055748658114276"
      ]
     },
     "execution_count": 11,
     "metadata": {},
     "output_type": "execute_result"
    }
   ],
   "source": [
    "#Equivalent to\n",
    "df.iat[3,4]"
   ]
  },
  {
   "cell_type": "markdown",
   "metadata": {},
   "source": [
    "### ix[ ] works with labels and integers"
   ]
  },
  {
   "cell_type": "code",
   "execution_count": 12,
   "metadata": {
    "collapsed": false
   },
   "outputs": [
    {
     "data": {
      "text/html": [
       "<div>\n",
       "<table border=\"1\" class=\"dataframe\">\n",
       "  <thead>\n",
       "    <tr style=\"text-align: right;\">\n",
       "      <th></th>\n",
       "      <th>A</th>\n",
       "      <th>B</th>\n",
       "      <th>C</th>\n",
       "      <th>D</th>\n",
       "      <th>E</th>\n",
       "    </tr>\n",
       "    <tr>\n",
       "      <th>indexcol</th>\n",
       "      <th></th>\n",
       "      <th></th>\n",
       "      <th></th>\n",
       "      <th></th>\n",
       "      <th></th>\n",
       "    </tr>\n",
       "  </thead>\n",
       "  <tbody>\n",
       "    <tr>\n",
       "      <th>tom</th>\n",
       "      <td>0.481138</td>\n",
       "      <td>-0.836912</td>\n",
       "      <td>1.727949</td>\n",
       "      <td>0.777779</td>\n",
       "      <td>0.735387</td>\n",
       "    </tr>\n",
       "    <tr>\n",
       "      <th>max</th>\n",
       "      <td>1.992561</td>\n",
       "      <td>-0.692921</td>\n",
       "      <td>0.060170</td>\n",
       "      <td>-1.180734</td>\n",
       "      <td>-0.822875</td>\n",
       "    </tr>\n",
       "    <tr>\n",
       "      <th>alex</th>\n",
       "      <td>1.361803</td>\n",
       "      <td>-0.459099</td>\n",
       "      <td>0.596075</td>\n",
       "      <td>-0.843475</td>\n",
       "      <td>-0.152430</td>\n",
       "    </tr>\n",
       "    <tr>\n",
       "      <th>chris</th>\n",
       "      <td>-0.813966</td>\n",
       "      <td>-2.166506</td>\n",
       "      <td>-0.073822</td>\n",
       "      <td>-0.134159</td>\n",
       "      <td>-1.205575</td>\n",
       "    </tr>\n",
       "    <tr>\n",
       "      <th>john</th>\n",
       "      <td>0.129851</td>\n",
       "      <td>-1.245814</td>\n",
       "      <td>1.614511</td>\n",
       "      <td>0.991518</td>\n",
       "      <td>0.135556</td>\n",
       "    </tr>\n",
       "  </tbody>\n",
       "</table>\n",
       "</div>"
      ],
      "text/plain": [
       "                 A         B         C         D         E\n",
       "indexcol                                                  \n",
       "tom       0.481138 -0.836912  1.727949  0.777779  0.735387\n",
       "max       1.992561 -0.692921  0.060170 -1.180734 -0.822875\n",
       "alex      1.361803 -0.459099  0.596075 -0.843475 -0.152430\n",
       "chris    -0.813966 -2.166506 -0.073822 -0.134159 -1.205575\n",
       "john      0.129851 -1.245814  1.614511  0.991518  0.135556"
      ]
     },
     "execution_count": 12,
     "metadata": {},
     "output_type": "execute_result"
    }
   ],
   "source": [
    "df"
   ]
  },
  {
   "cell_type": "code",
   "execution_count": 13,
   "metadata": {
    "collapsed": false,
    "scrolled": true
   },
   "outputs": [
    {
     "data": {
      "text/plain": [
       "-0.83691168174424424"
      ]
     },
     "execution_count": 13,
     "metadata": {},
     "output_type": "execute_result"
    }
   ],
   "source": [
    "df.ix[0,\"B\"]"
   ]
  },
  {
   "cell_type": "code",
   "execution_count": 14,
   "metadata": {
    "collapsed": false
   },
   "outputs": [
    {
     "data": {
      "text/html": [
       "<div>\n",
       "<table border=\"1\" class=\"dataframe\">\n",
       "  <thead>\n",
       "    <tr style=\"text-align: right;\">\n",
       "      <th></th>\n",
       "      <th>A</th>\n",
       "      <th>B</th>\n",
       "      <th>C</th>\n",
       "    </tr>\n",
       "    <tr>\n",
       "      <th>indexcol</th>\n",
       "      <th></th>\n",
       "      <th></th>\n",
       "      <th></th>\n",
       "    </tr>\n",
       "  </thead>\n",
       "  <tbody>\n",
       "    <tr>\n",
       "      <th>tom</th>\n",
       "      <td>0.481138</td>\n",
       "      <td>-0.836912</td>\n",
       "      <td>1.727949</td>\n",
       "    </tr>\n",
       "    <tr>\n",
       "      <th>max</th>\n",
       "      <td>1.992561</td>\n",
       "      <td>-0.692921</td>\n",
       "      <td>0.060170</td>\n",
       "    </tr>\n",
       "    <tr>\n",
       "      <th>alex</th>\n",
       "      <td>1.361803</td>\n",
       "      <td>-0.459099</td>\n",
       "      <td>0.596075</td>\n",
       "    </tr>\n",
       "  </tbody>\n",
       "</table>\n",
       "</div>"
      ],
      "text/plain": [
       "                 A         B         C\n",
       "indexcol                              \n",
       "tom       0.481138 -0.836912  1.727949\n",
       "max       1.992561 -0.692921  0.060170\n",
       "alex      1.361803 -0.459099  0.596075"
      ]
     },
     "execution_count": 14,
     "metadata": {},
     "output_type": "execute_result"
    }
   ],
   "source": [
    "df.ix[\"tom\":\"alex\",0:3]"
   ]
  }
 ],
 "metadata": {
  "kernelspec": {
   "display_name": "Python 2",
   "language": "python",
   "name": "python2"
  },
  "language_info": {
   "codemirror_mode": {
    "name": "ipython",
    "version": 2
   },
   "file_extension": ".py",
   "mimetype": "text/x-python",
   "name": "python",
   "nbconvert_exporter": "python",
   "pygments_lexer": "ipython2",
   "version": "2.7.10"
  }
 },
 "nbformat": 4,
 "nbformat_minor": 0
}
