{
 "cells": [
  {
   "cell_type": "markdown",
   "metadata": {
    "collapsed": true
   },
   "source": [
    "# Filter a Dataframe based on a column value"
   ]
  },
  {
   "cell_type": "markdown",
   "metadata": {},
   "source": [
    "### Imports"
   ]
  },
  {
   "cell_type": "code",
   "execution_count": 1,
   "metadata": {
    "collapsed": true
   },
   "outputs": [],
   "source": [
    "% matplotlib inline\n",
    "import pandas as pd\n",
    "import matplotlib.pyplot as plt\n",
    "import numpy as np"
   ]
  },
  {
   "cell_type": "markdown",
   "metadata": {},
   "source": [
    "### Creating a Dataframe"
   ]
  },
  {
   "cell_type": "code",
   "execution_count": 2,
   "metadata": {
    "collapsed": false,
    "scrolled": true
   },
   "outputs": [
    {
     "data": {
      "text/html": [
       "<div>\n",
       "<table border=\"1\" class=\"dataframe\">\n",
       "  <thead>\n",
       "    <tr style=\"text-align: right;\">\n",
       "      <th></th>\n",
       "      <th>A</th>\n",
       "      <th>B</th>\n",
       "      <th>C</th>\n",
       "      <th>D</th>\n",
       "      <th>E</th>\n",
       "    </tr>\n",
       "  </thead>\n",
       "  <tbody>\n",
       "    <tr>\n",
       "      <th>0</th>\n",
       "      <td>0.161743</td>\n",
       "      <td>1.211426</td>\n",
       "      <td>-0.155987</td>\n",
       "      <td>-0.292009</td>\n",
       "      <td>-0.004240</td>\n",
       "    </tr>\n",
       "    <tr>\n",
       "      <th>1</th>\n",
       "      <td>-0.803863</td>\n",
       "      <td>-0.403808</td>\n",
       "      <td>-0.531699</td>\n",
       "      <td>0.972567</td>\n",
       "      <td>-0.953224</td>\n",
       "    </tr>\n",
       "    <tr>\n",
       "      <th>2</th>\n",
       "      <td>1.378958</td>\n",
       "      <td>-0.354793</td>\n",
       "      <td>0.795100</td>\n",
       "      <td>-1.097869</td>\n",
       "      <td>-0.273065</td>\n",
       "    </tr>\n",
       "    <tr>\n",
       "      <th>3</th>\n",
       "      <td>-0.699740</td>\n",
       "      <td>-2.924820</td>\n",
       "      <td>-0.313457</td>\n",
       "      <td>0.386307</td>\n",
       "      <td>-1.046927</td>\n",
       "    </tr>\n",
       "    <tr>\n",
       "      <th>4</th>\n",
       "      <td>-0.238023</td>\n",
       "      <td>-0.031439</td>\n",
       "      <td>1.822297</td>\n",
       "      <td>-0.971860</td>\n",
       "      <td>0.789591</td>\n",
       "    </tr>\n",
       "    <tr>\n",
       "      <th>5</th>\n",
       "      <td>-1.265117</td>\n",
       "      <td>1.815180</td>\n",
       "      <td>0.408434</td>\n",
       "      <td>0.902776</td>\n",
       "      <td>0.032854</td>\n",
       "    </tr>\n",
       "    <tr>\n",
       "      <th>6</th>\n",
       "      <td>-0.512607</td>\n",
       "      <td>-0.051360</td>\n",
       "      <td>0.461714</td>\n",
       "      <td>-2.479081</td>\n",
       "      <td>1.415008</td>\n",
       "    </tr>\n",
       "  </tbody>\n",
       "</table>\n",
       "</div>"
      ],
      "text/plain": [
       "          A         B         C         D         E\n",
       "0  0.161743  1.211426 -0.155987 -0.292009 -0.004240\n",
       "1 -0.803863 -0.403808 -0.531699  0.972567 -0.953224\n",
       "2  1.378958 -0.354793  0.795100 -1.097869 -0.273065\n",
       "3 -0.699740 -2.924820 -0.313457  0.386307 -1.046927\n",
       "4 -0.238023 -0.031439  1.822297 -0.971860  0.789591\n",
       "5 -1.265117  1.815180  0.408434  0.902776  0.032854\n",
       "6 -0.512607 -0.051360  0.461714 -2.479081  1.415008"
      ]
     },
     "execution_count": 2,
     "metadata": {},
     "output_type": "execute_result"
    }
   ],
   "source": [
    "df = pd.DataFrame(np.random.randn(7,5),columns = list(\"ABCDE\"))\n",
    "df"
   ]
  },
  {
   "cell_type": "markdown",
   "metadata": {},
   "source": [
    "### Filtering"
   ]
  },
  {
   "cell_type": "code",
   "execution_count": 3,
   "metadata": {
    "collapsed": false
   },
   "outputs": [
    {
     "data": {
      "text/html": [
       "<div>\n",
       "<table border=\"1\" class=\"dataframe\">\n",
       "  <thead>\n",
       "    <tr style=\"text-align: right;\">\n",
       "      <th></th>\n",
       "      <th>A</th>\n",
       "      <th>B</th>\n",
       "      <th>C</th>\n",
       "      <th>D</th>\n",
       "      <th>E</th>\n",
       "    </tr>\n",
       "  </thead>\n",
       "  <tbody>\n",
       "    <tr>\n",
       "      <th>0</th>\n",
       "      <td>0.161743</td>\n",
       "      <td>1.211426</td>\n",
       "      <td>-0.155987</td>\n",
       "      <td>-0.292009</td>\n",
       "      <td>-0.004240</td>\n",
       "    </tr>\n",
       "    <tr>\n",
       "      <th>1</th>\n",
       "      <td>-0.803863</td>\n",
       "      <td>-0.403808</td>\n",
       "      <td>-0.531699</td>\n",
       "      <td>0.972567</td>\n",
       "      <td>-0.953224</td>\n",
       "    </tr>\n",
       "    <tr>\n",
       "      <th>2</th>\n",
       "      <td>1.378958</td>\n",
       "      <td>-0.354793</td>\n",
       "      <td>0.795100</td>\n",
       "      <td>-1.097869</td>\n",
       "      <td>-0.273065</td>\n",
       "    </tr>\n",
       "    <tr>\n",
       "      <th>3</th>\n",
       "      <td>-0.699740</td>\n",
       "      <td>-2.924820</td>\n",
       "      <td>-0.313457</td>\n",
       "      <td>0.386307</td>\n",
       "      <td>-1.046927</td>\n",
       "    </tr>\n",
       "  </tbody>\n",
       "</table>\n",
       "</div>"
      ],
      "text/plain": [
       "          A         B         C         D         E\n",
       "0  0.161743  1.211426 -0.155987 -0.292009 -0.004240\n",
       "1 -0.803863 -0.403808 -0.531699  0.972567 -0.953224\n",
       "2  1.378958 -0.354793  0.795100 -1.097869 -0.273065\n",
       "3 -0.699740 -2.924820 -0.313457  0.386307 -1.046927"
      ]
     },
     "execution_count": 3,
     "metadata": {},
     "output_type": "execute_result"
    }
   ],
   "source": [
    "df[df.E <0]"
   ]
  }
 ],
 "metadata": {
  "kernelspec": {
   "display_name": "Python 2",
   "language": "python",
   "name": "python2"
  },
  "language_info": {
   "codemirror_mode": {
    "name": "ipython",
    "version": 2
   },
   "file_extension": ".py",
   "mimetype": "text/x-python",
   "name": "python",
   "nbconvert_exporter": "python",
   "pygments_lexer": "ipython2",
   "version": "2.7.10"
  }
 },
 "nbformat": 4,
 "nbformat_minor": 0
}
